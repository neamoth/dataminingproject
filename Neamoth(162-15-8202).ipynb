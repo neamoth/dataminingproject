{
 "cells": [
  {
   "cell_type": "markdown",
   "id": "8a4aff10",
   "metadata": {},
   "source": [
    "# Neamoth Project"
   ]
  },
  {
   "cell_type": "code",
   "execution_count": 1,
   "id": "3900439f",
   "metadata": {},
   "outputs": [],
   "source": [
    "import pandas as pd"
   ]
  },
  {
   "cell_type": "code",
   "execution_count": 2,
   "id": "5f2724e2",
   "metadata": {},
   "outputs": [],
   "source": [
    "fire = pd.read_csv(\"forestfires.csv\")"
   ]
  },
  {
   "cell_type": "code",
   "execution_count": 3,
   "id": "a9f92e8e",
   "metadata": {},
   "outputs": [
    {
     "data": {
      "text/html": [
       "<div>\n",
       "<style scoped>\n",
       "    .dataframe tbody tr th:only-of-type {\n",
       "        vertical-align: middle;\n",
       "    }\n",
       "\n",
       "    .dataframe tbody tr th {\n",
       "        vertical-align: top;\n",
       "    }\n",
       "\n",
       "    .dataframe thead th {\n",
       "        text-align: right;\n",
       "    }\n",
       "</style>\n",
       "<table border=\"1\" class=\"dataframe\">\n",
       "  <thead>\n",
       "    <tr style=\"text-align: right;\">\n",
       "      <th></th>\n",
       "      <th>X</th>\n",
       "      <th>Y</th>\n",
       "      <th>DMC</th>\n",
       "      <th>DC</th>\n",
       "      <th>ISI</th>\n",
       "      <th>temp</th>\n",
       "      <th>RH</th>\n",
       "      <th>wind</th>\n",
       "      <th>FFMC</th>\n",
       "    </tr>\n",
       "  </thead>\n",
       "  <tbody>\n",
       "    <tr>\n",
       "      <th>0</th>\n",
       "      <td>7</td>\n",
       "      <td>5</td>\n",
       "      <td>26.2</td>\n",
       "      <td>94.3</td>\n",
       "      <td>5.1</td>\n",
       "      <td>8.2</td>\n",
       "      <td>51</td>\n",
       "      <td>6.7</td>\n",
       "      <td>86.2</td>\n",
       "    </tr>\n",
       "    <tr>\n",
       "      <th>1</th>\n",
       "      <td>7</td>\n",
       "      <td>4</td>\n",
       "      <td>35.4</td>\n",
       "      <td>669.1</td>\n",
       "      <td>6.7</td>\n",
       "      <td>18.0</td>\n",
       "      <td>33</td>\n",
       "      <td>0.9</td>\n",
       "      <td>90.6</td>\n",
       "    </tr>\n",
       "    <tr>\n",
       "      <th>2</th>\n",
       "      <td>7</td>\n",
       "      <td>4</td>\n",
       "      <td>43.7</td>\n",
       "      <td>686.9</td>\n",
       "      <td>6.7</td>\n",
       "      <td>14.6</td>\n",
       "      <td>33</td>\n",
       "      <td>1.3</td>\n",
       "      <td>90.6</td>\n",
       "    </tr>\n",
       "    <tr>\n",
       "      <th>3</th>\n",
       "      <td>8</td>\n",
       "      <td>6</td>\n",
       "      <td>33.3</td>\n",
       "      <td>77.5</td>\n",
       "      <td>9.0</td>\n",
       "      <td>8.3</td>\n",
       "      <td>97</td>\n",
       "      <td>4.0</td>\n",
       "      <td>91.7</td>\n",
       "    </tr>\n",
       "    <tr>\n",
       "      <th>4</th>\n",
       "      <td>8</td>\n",
       "      <td>6</td>\n",
       "      <td>51.3</td>\n",
       "      <td>102.2</td>\n",
       "      <td>9.6</td>\n",
       "      <td>11.4</td>\n",
       "      <td>99</td>\n",
       "      <td>1.8</td>\n",
       "      <td>89.3</td>\n",
       "    </tr>\n",
       "  </tbody>\n",
       "</table>\n",
       "</div>"
      ],
      "text/plain": [
       "   X  Y   DMC     DC  ISI  temp  RH  wind  FFMC\n",
       "0  7  5  26.2   94.3  5.1   8.2  51   6.7  86.2\n",
       "1  7  4  35.4  669.1  6.7  18.0  33   0.9  90.6\n",
       "2  7  4  43.7  686.9  6.7  14.6  33   1.3  90.6\n",
       "3  8  6  33.3   77.5  9.0   8.3  97   4.0  91.7\n",
       "4  8  6  51.3  102.2  9.6  11.4  99   1.8  89.3"
      ]
     },
     "execution_count": 3,
     "metadata": {},
     "output_type": "execute_result"
    }
   ],
   "source": [
    "fire.head()\n",
    "\n",
    "#Head function is basicall show me the top 5 data in my dataset"
   ]
  },
  {
   "cell_type": "code",
   "execution_count": 4,
   "id": "69e2735e",
   "metadata": {},
   "outputs": [
    {
     "data": {
      "text/html": [
       "<div>\n",
       "<style scoped>\n",
       "    .dataframe tbody tr th:only-of-type {\n",
       "        vertical-align: middle;\n",
       "    }\n",
       "\n",
       "    .dataframe tbody tr th {\n",
       "        vertical-align: top;\n",
       "    }\n",
       "\n",
       "    .dataframe thead th {\n",
       "        text-align: right;\n",
       "    }\n",
       "</style>\n",
       "<table border=\"1\" class=\"dataframe\">\n",
       "  <thead>\n",
       "    <tr style=\"text-align: right;\">\n",
       "      <th></th>\n",
       "      <th>X</th>\n",
       "      <th>Y</th>\n",
       "      <th>DMC</th>\n",
       "      <th>DC</th>\n",
       "      <th>ISI</th>\n",
       "      <th>temp</th>\n",
       "      <th>RH</th>\n",
       "      <th>wind</th>\n",
       "      <th>FFMC</th>\n",
       "    </tr>\n",
       "  </thead>\n",
       "  <tbody>\n",
       "    <tr>\n",
       "      <th>512</th>\n",
       "      <td>4</td>\n",
       "      <td>3</td>\n",
       "      <td>56.7</td>\n",
       "      <td>665.6</td>\n",
       "      <td>1.9</td>\n",
       "      <td>27.8</td>\n",
       "      <td>32</td>\n",
       "      <td>2.7</td>\n",
       "      <td>81.6</td>\n",
       "    </tr>\n",
       "    <tr>\n",
       "      <th>513</th>\n",
       "      <td>2</td>\n",
       "      <td>4</td>\n",
       "      <td>56.7</td>\n",
       "      <td>665.6</td>\n",
       "      <td>1.9</td>\n",
       "      <td>21.9</td>\n",
       "      <td>71</td>\n",
       "      <td>5.8</td>\n",
       "      <td>81.6</td>\n",
       "    </tr>\n",
       "    <tr>\n",
       "      <th>514</th>\n",
       "      <td>7</td>\n",
       "      <td>4</td>\n",
       "      <td>56.7</td>\n",
       "      <td>665.6</td>\n",
       "      <td>1.9</td>\n",
       "      <td>21.2</td>\n",
       "      <td>70</td>\n",
       "      <td>6.7</td>\n",
       "      <td>81.6</td>\n",
       "    </tr>\n",
       "    <tr>\n",
       "      <th>515</th>\n",
       "      <td>1</td>\n",
       "      <td>4</td>\n",
       "      <td>146.0</td>\n",
       "      <td>614.7</td>\n",
       "      <td>11.3</td>\n",
       "      <td>25.6</td>\n",
       "      <td>42</td>\n",
       "      <td>4.0</td>\n",
       "      <td>94.4</td>\n",
       "    </tr>\n",
       "    <tr>\n",
       "      <th>516</th>\n",
       "      <td>6</td>\n",
       "      <td>3</td>\n",
       "      <td>3.0</td>\n",
       "      <td>106.7</td>\n",
       "      <td>1.1</td>\n",
       "      <td>11.8</td>\n",
       "      <td>31</td>\n",
       "      <td>4.5</td>\n",
       "      <td>79.5</td>\n",
       "    </tr>\n",
       "  </tbody>\n",
       "</table>\n",
       "</div>"
      ],
      "text/plain": [
       "     X  Y    DMC     DC   ISI  temp  RH  wind  FFMC\n",
       "512  4  3   56.7  665.6   1.9  27.8  32   2.7  81.6\n",
       "513  2  4   56.7  665.6   1.9  21.9  71   5.8  81.6\n",
       "514  7  4   56.7  665.6   1.9  21.2  70   6.7  81.6\n",
       "515  1  4  146.0  614.7  11.3  25.6  42   4.0  94.4\n",
       "516  6  3    3.0  106.7   1.1  11.8  31   4.5  79.5"
      ]
     },
     "execution_count": 4,
     "metadata": {},
     "output_type": "execute_result"
    }
   ],
   "source": [
    "fire.tail()\n",
    "\n",
    "#for the last five data"
   ]
  },
  {
   "cell_type": "code",
   "execution_count": 5,
   "id": "3bfc9615",
   "metadata": {},
   "outputs": [
    {
     "name": "stdout",
     "output_type": "stream",
     "text": [
      "<class 'pandas.core.frame.DataFrame'>\n",
      "RangeIndex: 517 entries, 0 to 516\n",
      "Data columns (total 9 columns):\n",
      " #   Column  Non-Null Count  Dtype  \n",
      "---  ------  --------------  -----  \n",
      " 0   X       517 non-null    int64  \n",
      " 1   Y       517 non-null    int64  \n",
      " 2   DMC     517 non-null    float64\n",
      " 3   DC      517 non-null    float64\n",
      " 4   ISI     517 non-null    float64\n",
      " 5   temp    517 non-null    float64\n",
      " 6   RH      517 non-null    int64  \n",
      " 7   wind    517 non-null    float64\n",
      " 8   FFMC    517 non-null    float64\n",
      "dtypes: float64(6), int64(3)\n",
      "memory usage: 36.5 KB\n"
     ]
    },
    {
     "data": {
      "text/plain": [
       "'There is 14 data coloum starting from 0-13'"
      ]
     },
     "execution_count": 5,
     "metadata": {},
     "output_type": "execute_result"
    }
   ],
   "source": [
    "fire.info()\n",
    "#This function basically show me that if there is any null data and what is the data type\n",
    "'''There is 14 data coloum starting from 0-13'''"
   ]
  },
  {
   "cell_type": "code",
   "execution_count": 6,
   "id": "d03ba873",
   "metadata": {},
   "outputs": [
    {
     "data": {
      "text/plain": [
       "17.4    8\n",
       "19.6    8\n",
       "15.4    7\n",
       "20.6    7\n",
       "20.4    6\n",
       "       ..\n",
       "16.3    1\n",
       "12.8    1\n",
       "10.4    1\n",
       "8.7     1\n",
       "25.6    1\n",
       "Name: temp, Length: 192, dtype: int64"
      ]
     },
     "execution_count": 6,
     "metadata": {},
     "output_type": "execute_result"
    }
   ],
   "source": [
    "fire['temp'].value_counts()\n",
    "\n",
    "#with this function we can analyzed data from different colums"
   ]
  },
  {
   "cell_type": "code",
   "execution_count": 7,
   "id": "807bb195",
   "metadata": {},
   "outputs": [
    {
     "data": {
      "text/plain": [
       "9.6     23\n",
       "7.1     21\n",
       "6.3     20\n",
       "8.4     17\n",
       "7.0     17\n",
       "        ..\n",
       "16.5     1\n",
       "2.2      1\n",
       "8.3      1\n",
       "2.0      1\n",
       "1.1      1\n",
       "Name: ISI, Length: 119, dtype: int64"
      ]
     },
     "execution_count": 7,
     "metadata": {},
     "output_type": "execute_result"
    }
   ],
   "source": [
    "fire['ISI'].value_counts()"
   ]
  },
  {
   "cell_type": "code",
   "execution_count": 8,
   "id": "750c19f0",
   "metadata": {},
   "outputs": [
    {
     "data": {
      "text/plain": [
       "99.0     10\n",
       "129.5     9\n",
       "231.1     8\n",
       "142.4     8\n",
       "35.8      7\n",
       "         ..\n",
       "138.1     1\n",
       "109.2     1\n",
       "91.6      1\n",
       "122.3     1\n",
       "146.0     1\n",
       "Name: DMC, Length: 215, dtype: int64"
      ]
     },
     "execution_count": 8,
     "metadata": {},
     "output_type": "execute_result"
    }
   ],
   "source": [
    "fire['DMC'].value_counts()"
   ]
  },
  {
   "cell_type": "code",
   "execution_count": 9,
   "id": "c4c4a6c2",
   "metadata": {},
   "outputs": [
    {
     "data": {
      "text/html": [
       "<div>\n",
       "<style scoped>\n",
       "    .dataframe tbody tr th:only-of-type {\n",
       "        vertical-align: middle;\n",
       "    }\n",
       "\n",
       "    .dataframe tbody tr th {\n",
       "        vertical-align: top;\n",
       "    }\n",
       "\n",
       "    .dataframe thead th {\n",
       "        text-align: right;\n",
       "    }\n",
       "</style>\n",
       "<table border=\"1\" class=\"dataframe\">\n",
       "  <thead>\n",
       "    <tr style=\"text-align: right;\">\n",
       "      <th></th>\n",
       "      <th>X</th>\n",
       "      <th>Y</th>\n",
       "      <th>DMC</th>\n",
       "      <th>DC</th>\n",
       "      <th>ISI</th>\n",
       "      <th>temp</th>\n",
       "      <th>RH</th>\n",
       "      <th>wind</th>\n",
       "      <th>FFMC</th>\n",
       "    </tr>\n",
       "  </thead>\n",
       "  <tbody>\n",
       "    <tr>\n",
       "      <th>count</th>\n",
       "      <td>517.000000</td>\n",
       "      <td>517.000000</td>\n",
       "      <td>517.000000</td>\n",
       "      <td>517.000000</td>\n",
       "      <td>517.000000</td>\n",
       "      <td>517.000000</td>\n",
       "      <td>517.000000</td>\n",
       "      <td>517.000000</td>\n",
       "      <td>517.000000</td>\n",
       "    </tr>\n",
       "    <tr>\n",
       "      <th>mean</th>\n",
       "      <td>4.669246</td>\n",
       "      <td>4.299807</td>\n",
       "      <td>110.872340</td>\n",
       "      <td>547.940039</td>\n",
       "      <td>9.021663</td>\n",
       "      <td>18.889168</td>\n",
       "      <td>44.288201</td>\n",
       "      <td>4.017602</td>\n",
       "      <td>90.644681</td>\n",
       "    </tr>\n",
       "    <tr>\n",
       "      <th>std</th>\n",
       "      <td>2.313778</td>\n",
       "      <td>1.229900</td>\n",
       "      <td>64.046482</td>\n",
       "      <td>248.066192</td>\n",
       "      <td>4.559477</td>\n",
       "      <td>5.806625</td>\n",
       "      <td>16.317469</td>\n",
       "      <td>1.791653</td>\n",
       "      <td>5.520111</td>\n",
       "    </tr>\n",
       "    <tr>\n",
       "      <th>min</th>\n",
       "      <td>1.000000</td>\n",
       "      <td>2.000000</td>\n",
       "      <td>1.100000</td>\n",
       "      <td>7.900000</td>\n",
       "      <td>0.000000</td>\n",
       "      <td>2.200000</td>\n",
       "      <td>15.000000</td>\n",
       "      <td>0.400000</td>\n",
       "      <td>18.700000</td>\n",
       "    </tr>\n",
       "    <tr>\n",
       "      <th>25%</th>\n",
       "      <td>3.000000</td>\n",
       "      <td>4.000000</td>\n",
       "      <td>68.600000</td>\n",
       "      <td>437.700000</td>\n",
       "      <td>6.500000</td>\n",
       "      <td>15.500000</td>\n",
       "      <td>33.000000</td>\n",
       "      <td>2.700000</td>\n",
       "      <td>90.200000</td>\n",
       "    </tr>\n",
       "    <tr>\n",
       "      <th>50%</th>\n",
       "      <td>4.000000</td>\n",
       "      <td>4.000000</td>\n",
       "      <td>108.300000</td>\n",
       "      <td>664.200000</td>\n",
       "      <td>8.400000</td>\n",
       "      <td>19.300000</td>\n",
       "      <td>42.000000</td>\n",
       "      <td>4.000000</td>\n",
       "      <td>91.600000</td>\n",
       "    </tr>\n",
       "    <tr>\n",
       "      <th>75%</th>\n",
       "      <td>7.000000</td>\n",
       "      <td>5.000000</td>\n",
       "      <td>142.400000</td>\n",
       "      <td>713.900000</td>\n",
       "      <td>10.800000</td>\n",
       "      <td>22.800000</td>\n",
       "      <td>53.000000</td>\n",
       "      <td>4.900000</td>\n",
       "      <td>92.900000</td>\n",
       "    </tr>\n",
       "    <tr>\n",
       "      <th>max</th>\n",
       "      <td>9.000000</td>\n",
       "      <td>9.000000</td>\n",
       "      <td>291.300000</td>\n",
       "      <td>860.600000</td>\n",
       "      <td>56.100000</td>\n",
       "      <td>33.300000</td>\n",
       "      <td>100.000000</td>\n",
       "      <td>9.400000</td>\n",
       "      <td>96.200000</td>\n",
       "    </tr>\n",
       "  </tbody>\n",
       "</table>\n",
       "</div>"
      ],
      "text/plain": [
       "                X           Y         DMC          DC         ISI        temp  \\\n",
       "count  517.000000  517.000000  517.000000  517.000000  517.000000  517.000000   \n",
       "mean     4.669246    4.299807  110.872340  547.940039    9.021663   18.889168   \n",
       "std      2.313778    1.229900   64.046482  248.066192    4.559477    5.806625   \n",
       "min      1.000000    2.000000    1.100000    7.900000    0.000000    2.200000   \n",
       "25%      3.000000    4.000000   68.600000  437.700000    6.500000   15.500000   \n",
       "50%      4.000000    4.000000  108.300000  664.200000    8.400000   19.300000   \n",
       "75%      7.000000    5.000000  142.400000  713.900000   10.800000   22.800000   \n",
       "max      9.000000    9.000000  291.300000  860.600000   56.100000   33.300000   \n",
       "\n",
       "               RH        wind        FFMC  \n",
       "count  517.000000  517.000000  517.000000  \n",
       "mean    44.288201    4.017602   90.644681  \n",
       "std     16.317469    1.791653    5.520111  \n",
       "min     15.000000    0.400000   18.700000  \n",
       "25%     33.000000    2.700000   90.200000  \n",
       "50%     42.000000    4.000000   91.600000  \n",
       "75%     53.000000    4.900000   92.900000  \n",
       "max    100.000000    9.400000   96.200000  "
      ]
     },
     "execution_count": 9,
     "metadata": {},
     "output_type": "execute_result"
    }
   ],
   "source": [
    "fire.describe()\n",
    "\n",
    "# Count-Ignore the null and blank values and show the result without the null value from indevisul coloums\n",
    "# mean- Show the avg result\n",
    "# std- Std means Standard deviation. Its is a number that describes how spread out the values are.\n",
    "# min- minium values\n",
    "# max- maximum values\n",
    "# #25%, 50%, 75% is the same type of values likes, 50% values of CRIM is on 0.256510 this value\n"
   ]
  },
  {
   "cell_type": "code",
   "execution_count": 10,
   "id": "e4ad018f",
   "metadata": {},
   "outputs": [],
   "source": [
    "%matplotlib inline"
   ]
  },
  {
   "cell_type": "code",
   "execution_count": 11,
   "id": "6c47571d",
   "metadata": {},
   "outputs": [],
   "source": [
    "import matplotlib.pyplot as plt"
   ]
  },
  {
   "cell_type": "code",
   "execution_count": 12,
   "id": "f6d3cda3",
   "metadata": {},
   "outputs": [
    {
     "data": {
      "text/plain": [
       "array([[<AxesSubplot:title={'center':'X'}>,\n",
       "        <AxesSubplot:title={'center':'Y'}>,\n",
       "        <AxesSubplot:title={'center':'DMC'}>],\n",
       "       [<AxesSubplot:title={'center':'DC'}>,\n",
       "        <AxesSubplot:title={'center':'ISI'}>,\n",
       "        <AxesSubplot:title={'center':'temp'}>],\n",
       "       [<AxesSubplot:title={'center':'RH'}>,\n",
       "        <AxesSubplot:title={'center':'wind'}>,\n",
       "        <AxesSubplot:title={'center':'FFMC'}>]], dtype=object)"
      ]
     },
     "execution_count": 12,
     "metadata": {},
     "output_type": "execute_result"
    },
    {
     "data": {
      "image/png": "[encoded data removed]",
      "text/plain": [
       "<Figure size 1440x1080 with 9 Axes>"
      ]
     },
     "metadata": {
      "needs_background": "light"
     },
     "output_type": "display_data"
    }
   ],
   "source": [
    "fire.hist(bins=50, figsize=(20,15))\n",
    "\n",
    "# what is bins and figsize in the hist?\n",
    "# bins-the number of bars you want to show in your histogram plot.\n",
    "\n",
    "# if i'm in a python file then i have to write plt.show to show the plots graphs"
   ]
  },
  {
   "cell_type": "code",
   "execution_count": 13,
   "id": "2b2fc031",
   "metadata": {},
   "outputs": [
    {
     "data": {
      "text/plain": [
       "Index(['X', 'Y', 'DMC', 'DC', 'ISI', 'temp', 'RH', 'wind', 'FFMC'], dtype='object')"
      ]
     },
     "execution_count": 13,
     "metadata": {},
     "output_type": "execute_result"
    }
   ],
   "source": [
    "fire.keys()"
   ]
  },
  {
   "cell_type": "code",
   "execution_count": 14,
   "id": "f81d33aa",
   "metadata": {},
   "outputs": [
    {
     "data": {
      "text/plain": [
       "0      289.7\n",
       "1      864.7\n",
       "2      887.8\n",
       "3      334.8\n",
       "4      378.6\n",
       "       ...  \n",
       "512    875.3\n",
       "513    910.5\n",
       "514    914.7\n",
       "515    943.0\n",
       "516    246.6\n",
       "Length: 517, dtype: float64"
      ]
     },
     "execution_count": 14,
     "metadata": {},
     "output_type": "execute_result"
    }
   ],
   "source": [
    "fire.sum(axis=1)"
   ]
  },
  {
   "cell_type": "markdown",
   "id": "8b2fa4ce",
   "metadata": {},
   "source": [
    "# Train-Test Splitting"
   ]
  },
  {
   "cell_type": "code",
   "execution_count": 15,
   "id": "75f60626",
   "metadata": {},
   "outputs": [],
   "source": [
    "from sklearn.model_selection import train_test_split\n",
    "train_set, test_set = train_test_split(fire, test_size = 0.2, random_state = 42)"
   ]
  },
  {
   "cell_type": "code",
   "execution_count": 16,
   "id": "b11031be",
   "metadata": {},
   "outputs": [
    {
     "name": "stdout",
     "output_type": "stream",
     "text": [
      "Rows in Train set: 413\n",
      "Rows in Test set: 104\n"
     ]
    }
   ],
   "source": [
    "print(f\"Rows in Train set: {len(train_set)}\\nRows in Test set: {len(test_set)}\")"
   ]
  },
  {
   "cell_type": "code",
   "execution_count": 18,
   "id": "b7b4a197",
   "metadata": {},
   "outputs": [
    {
     "ename": "ValueError",
     "evalue": "The least populated class in y has only 1 member, which is too few. The minimum number of groups for any class cannot be less than 2.",
     "output_type": "error",
     "traceback": [
      "\u001b[1;31m---------------------------------------------------------------------------\u001b[0m",
      "\u001b[1;31mValueError\u001b[0m                                Traceback (most recent call last)",
      "Input \u001b[1;32mIn [18]\u001b[0m, in \u001b[0;36m<module>\u001b[1;34m\u001b[0m\n\u001b[0;32m      1\u001b[0m \u001b[38;5;28;01mfrom\u001b[39;00m \u001b[38;5;21;01msklearn\u001b[39;00m\u001b[38;5;21;01m.\u001b[39;00m\u001b[38;5;21;01mmodel_selection\u001b[39;00m \u001b[38;5;28;01mimport\u001b[39;00m StratifiedShuffleSplit\n\u001b[0;32m      2\u001b[0m split\u001b[38;5;241m=\u001b[39mStratifiedShuffleSplit(n_splits\u001b[38;5;241m=\u001b[39m\u001b[38;5;241m1\u001b[39m, test_size\u001b[38;5;241m=\u001b[39m\u001b[38;5;241m0.2\u001b[39m, random_state\u001b[38;5;241m=\u001b[39m\u001b[38;5;241m42\u001b[39m)\n\u001b[1;32m----> 3\u001b[0m \u001b[38;5;28;01mfor\u001b[39;00m train_index, test_index \u001b[38;5;129;01min\u001b[39;00m split\u001b[38;5;241m.\u001b[39msplit(fire, fire[\u001b[38;5;124m\"\u001b[39m\u001b[38;5;124mDMC\u001b[39m\u001b[38;5;124m\"\u001b[39m]):\n\u001b[0;32m      4\u001b[0m     strat_train_set \u001b[38;5;241m=\u001b[39m fire\u001b[38;5;241m.\u001b[39mloc[train_index]\n\u001b[0;32m      5\u001b[0m     strat_test_set \u001b[38;5;241m=\u001b[39m fire\u001b[38;5;241m.\u001b[39mloc[test_index]\n",
      "File \u001b[1;32m~\\AppData\\Local\\Programs\\Python\\Python310\\lib\\site-packages\\sklearn\\model_selection\\_split.py:1613\u001b[0m, in \u001b[0;36mBaseShuffleSplit.split\u001b[1;34m(self, X, y, groups)\u001b[0m\n\u001b[0;32m   1583\u001b[0m \u001b[38;5;124;03m\"\"\"Generate indices to split data into training and test set.\u001b[39;00m\n\u001b[0;32m   1584\u001b[0m \n\u001b[0;32m   1585\u001b[0m \u001b[38;5;124;03mParameters\u001b[39;00m\n\u001b[1;32m   (...)\u001b[0m\n\u001b[0;32m   1610\u001b[0m \u001b[38;5;124;03mto an integer.\u001b[39;00m\n\u001b[0;32m   1611\u001b[0m \u001b[38;5;124;03m\"\"\"\u001b[39;00m\n\u001b[0;32m   1612\u001b[0m X, y, groups \u001b[38;5;241m=\u001b[39m indexable(X, y, groups)\n\u001b[1;32m-> 1613\u001b[0m \u001b[38;5;28;01mfor\u001b[39;00m train, test \u001b[38;5;129;01min\u001b[39;00m \u001b[38;5;28mself\u001b[39m\u001b[38;5;241m.\u001b[39m_iter_indices(X, y, groups):\n\u001b[0;32m   1614\u001b[0m     \u001b[38;5;28;01myield\u001b[39;00m train, test\n",
      "File \u001b[1;32m~\\AppData\\Local\\Programs\\Python\\Python310\\lib\\site-packages\\sklearn\\model_selection\\_split.py:1953\u001b[0m, in \u001b[0;36mStratifiedShuffleSplit._iter_indices\u001b[1;34m(self, X, y, groups)\u001b[0m\n\u001b[0;32m   1951\u001b[0m class_counts \u001b[38;5;241m=\u001b[39m np\u001b[38;5;241m.\u001b[39mbincount(y_indices)\n\u001b[0;32m   1952\u001b[0m \u001b[38;5;28;01mif\u001b[39;00m np\u001b[38;5;241m.\u001b[39mmin(class_counts) \u001b[38;5;241m<\u001b[39m \u001b[38;5;241m2\u001b[39m:\n\u001b[1;32m-> 1953\u001b[0m     \u001b[38;5;28;01mraise\u001b[39;00m \u001b[38;5;167;01mValueError\u001b[39;00m(\n\u001b[0;32m   1954\u001b[0m         \u001b[38;5;124m\"\u001b[39m\u001b[38;5;124mThe least populated class in y has only 1\u001b[39m\u001b[38;5;124m\"\u001b[39m\n\u001b[0;32m   1955\u001b[0m         \u001b[38;5;124m\"\u001b[39m\u001b[38;5;124m member, which is too few. The minimum\u001b[39m\u001b[38;5;124m\"\u001b[39m\n\u001b[0;32m   1956\u001b[0m         \u001b[38;5;124m\"\u001b[39m\u001b[38;5;124m number of groups for any class cannot\u001b[39m\u001b[38;5;124m\"\u001b[39m\n\u001b[0;32m   1957\u001b[0m         \u001b[38;5;124m\"\u001b[39m\u001b[38;5;124m be less than 2.\u001b[39m\u001b[38;5;124m\"\u001b[39m\n\u001b[0;32m   1958\u001b[0m     )\n\u001b[0;32m   1960\u001b[0m \u001b[38;5;28;01mif\u001b[39;00m n_train \u001b[38;5;241m<\u001b[39m n_classes:\n\u001b[0;32m   1961\u001b[0m     \u001b[38;5;28;01mraise\u001b[39;00m \u001b[38;5;167;01mValueError\u001b[39;00m(\n\u001b[0;32m   1962\u001b[0m         \u001b[38;5;124m\"\u001b[39m\u001b[38;5;124mThe train_size = \u001b[39m\u001b[38;5;132;01m%d\u001b[39;00m\u001b[38;5;124m should be greater or \u001b[39m\u001b[38;5;124m\"\u001b[39m\n\u001b[0;32m   1963\u001b[0m         \u001b[38;5;124m\"\u001b[39m\u001b[38;5;124mequal to the number of classes = \u001b[39m\u001b[38;5;132;01m%d\u001b[39;00m\u001b[38;5;124m\"\u001b[39m \u001b[38;5;241m%\u001b[39m (n_train, n_classes)\n\u001b[0;32m   1964\u001b[0m     )\n",
      "\u001b[1;31mValueError\u001b[0m: The least populated class in y has only 1 member, which is too few. The minimum number of groups for any class cannot be less than 2."
     ]
    }
   ],
   "source": [
    "from sklearn.model_selection import StratifiedShuffleSplit\n",
    "split=StratifiedShuffleSplit(n_splits=1, test_size=0.2, random_state=42)\n",
    "for train_index, test_index in split.split(fire, fire[\"DMC\"]):\n",
    "    strat_train_set = fire.loc[train_index]\n",
    "    strat_test_set = fire.loc[test_index]"
   ]
  },
  {
   "cell_type": "code",
   "execution_count": 19,
   "id": "cffecf37",
   "metadata": {},
   "outputs": [
    {
     "ename": "NameError",
     "evalue": "name 'strat_test_set' is not defined",
     "output_type": "error",
     "traceback": [
      "\u001b[1;31m---------------------------------------------------------------------------\u001b[0m",
      "\u001b[1;31mNameError\u001b[0m                                 Traceback (most recent call last)",
      "Input \u001b[1;32mIn [19]\u001b[0m, in \u001b[0;36m<module>\u001b[1;34m\u001b[0m\n\u001b[1;32m----> 1\u001b[0m \u001b[43mstrat_test_set\u001b[49m[\u001b[38;5;124m'\u001b[39m\u001b[38;5;124mDMC\u001b[39m\u001b[38;5;124m'\u001b[39m]\u001b[38;5;241m.\u001b[39mvalue_counts()\n",
      "\u001b[1;31mNameError\u001b[0m: name 'strat_test_set' is not defined"
     ]
    }
   ],
   "source": [
    "strat_test_set['DMC'].value_counts()"
   ]
  },
  {
   "cell_type": "code",
   "execution_count": 20,
   "id": "01376004",
   "metadata": {},
   "outputs": [
    {
     "ename": "NameError",
     "evalue": "name 'strat_train_set' is not defined",
     "output_type": "error",
     "traceback": [
      "\u001b[1;31m---------------------------------------------------------------------------\u001b[0m",
      "\u001b[1;31mNameError\u001b[0m                                 Traceback (most recent call last)",
      "Input \u001b[1;32mIn [20]\u001b[0m, in \u001b[0;36m<module>\u001b[1;34m\u001b[0m\n\u001b[1;32m----> 1\u001b[0m \u001b[43mstrat_train_set\u001b[49m[\u001b[38;5;124m'\u001b[39m\u001b[38;5;124mDMC\u001b[39m\u001b[38;5;124m'\u001b[39m]\u001b[38;5;241m.\u001b[39mvalue_counts()\n",
      "\u001b[1;31mNameError\u001b[0m: name 'strat_train_set' is not defined"
     ]
    }
   ],
   "source": [
    "strat_train_set['DMC'].value_counts()"
   ]
  },
  {
   "cell_type": "code",
   "execution_count": 21,
   "id": "62207150",
   "metadata": {},
   "outputs": [
    {
     "ename": "NameError",
     "evalue": "name 'strat_train_set' is not defined",
     "output_type": "error",
     "traceback": [
      "\u001b[1;31m---------------------------------------------------------------------------\u001b[0m",
      "\u001b[1;31mNameError\u001b[0m                                 Traceback (most recent call last)",
      "Input \u001b[1;32mIn [21]\u001b[0m, in \u001b[0;36m<module>\u001b[1;34m\u001b[0m\n\u001b[1;32m----> 1\u001b[0m fire \u001b[38;5;241m=\u001b[39m \u001b[43mstrat_train_set\u001b[49m\u001b[38;5;241m.\u001b[39mcopy()\n",
      "\u001b[1;31mNameError\u001b[0m: name 'strat_train_set' is not defined"
     ]
    }
   ],
   "source": [
    "fire = strat_train_set.copy()"
   ]
  },
  {
   "cell_type": "markdown",
   "id": "6e7c5e7b",
   "metadata": {},
   "source": [
    "# Looking For Correlations"
   ]
  },
  {
   "cell_type": "code",
   "execution_count": null,
   "id": "35010547",
   "metadata": {},
   "outputs": [],
   "source": [
    "corr_matrix = fire.corr()\n",
    "corr_matrix['FFMC'].sort_values(ascending=False)"
   ]
  },
  {
   "cell_type": "code",
   "execution_count": null,
   "id": "80722f2f",
   "metadata": {},
   "outputs": [],
   "source": [
    "corr_matrix['FFMC'].sort_values(ascending=False)"
   ]
  },
  {
   "cell_type": "code",
   "execution_count": null,
   "id": "e71eb814",
   "metadata": {},
   "outputs": [],
   "source": [
    "from pandas.plotting import scatter_matrix\n",
    "attributes = [\"FFMC\",\"ISI\", \"DC\",\"RH\"]\n",
    "scatter_matrix(fire[attributes],figsize = (12,8))"
   ]
  },
  {
   "cell_type": "code",
   "execution_count": null,
   "id": "2361ce41",
   "metadata": {},
   "outputs": [],
   "source": [
    "fire.plot(kind=\"scatter\", x=\"FFMC\", y=\"ISI\",alpha=0.8)"
   ]
  },
  {
   "cell_type": "markdown",
   "id": "cbea60f7",
   "metadata": {},
   "source": []
  },
  {
   "cell_type": "markdown",
   "id": "4a168ea3",
   "metadata": {},
   "source": [
    "# Trying out Attribute combinations"
   ]
  },
  {
   "cell_type": "code",
   "execution_count": null,
   "id": "c1d337b5",
   "metadata": {},
   "outputs": [],
   "source": [
    "fire[\"windtemp\"] = fire['wind']/fire['temp']"
   ]
  },
  {
   "cell_type": "code",
   "execution_count": null,
   "id": "f8fccf9b",
   "metadata": {},
   "outputs": [],
   "source": [
    "fire.head()"
   ]
  },
  {
   "cell_type": "code",
   "execution_count": null,
   "id": "eb2ad110",
   "metadata": {},
   "outputs": [],
   "source": [
    "corr_matrix = fire.corr()\n",
    "corr_matrix['FFMC'].sort_values(ascending=False)"
   ]
  },
  {
   "cell_type": "code",
   "execution_count": null,
   "id": "09a96b68",
   "metadata": {},
   "outputs": [],
   "source": [
    "fire.plot(kind=\"scatter\", x=\"FFMC\", y=\"windtemp\",alpha=0.8)"
   ]
  },
  {
   "cell_type": "code",
   "execution_count": 23,
   "id": "64d4ddba",
   "metadata": {},
   "outputs": [],
   "source": [
    "fire= train_set .drop( \"FFMC\", axis=1)\n",
    "fire_labels = train_set [ \"FFMC\"].copy ()"
   ]
  },
  {
   "cell_type": "markdown",
   "id": "df730e68",
   "metadata": {},
   "source": [
    "# Missing attributes"
   ]
  },
  {
   "cell_type": "code",
   "execution_count": null,
   "id": "2d4f8566",
   "metadata": {},
   "outputs": [],
   "source": [
    "#we dont have any missing attributes, so we don't need to handle the missing attributes\n",
    "\n",
    "#we can do handle missing attributes with SimpleImputer(strategy='median')"
   ]
  },
  {
   "cell_type": "markdown",
   "id": "e7b2fcdf",
   "metadata": {},
   "source": [
    "# Creating a Pipeline"
   ]
  },
  {
   "cell_type": "code",
   "execution_count": 29,
   "id": "63d00abd",
   "metadata": {},
   "outputs": [],
   "source": [
    "from sklearn. impute import SimpleImputer\n",
    "\n",
    "from sklearn.pipeline import Pipeline\n",
    "from sklearn.preprocessing import StandardScaler\n",
    "my_pipeline = Pipeline ([\n",
    "    ('imputer', SimpleImputer (strategy= \"median\")),\n",
    "#........ add as many as you want in your pipeline\n",
    "    ('std scaler', StandardScaler ()),\n",
    "])\n",
    " "
   ]
  },
  {
   "cell_type": "code",
   "execution_count": 30,
   "id": "d04e4067",
   "metadata": {},
   "outputs": [],
   "source": [
    "fire_num_tr = my_pipeline. fit_transform (fire)"
   ]
  },
  {
   "cell_type": "code",
   "execution_count": 31,
   "id": "2b01f0ac",
   "metadata": {},
   "outputs": [
    {
     "data": {
      "text/plain": [
       "(413, 8)"
      ]
     },
     "execution_count": 31,
     "metadata": {},
     "output_type": "execute_result"
    }
   ],
   "source": [
    "fire_num_tr.shape"
   ]
  },
  {
   "cell_type": "markdown",
   "id": "a6f7fccf",
   "metadata": {},
   "source": [
    "# Selecting a desired model for Neamoth Project"
   ]
  },
  {
   "cell_type": "code",
   "execution_count": 32,
   "id": "e6f4484e",
   "metadata": {},
   "outputs": [
    {
     "data": {
      "text/html": [
       "<style>#sk-container-id-1 {color: black;background-color: white;}#sk-container-id-1 pre{padding: 0;}#sk-container-id-1 div.sk-toggleable {background-color: white;}#sk-container-id-1 label.sk-toggleable__label {cursor: pointer;display: block;width: 100%;margin-bottom: 0;padding: 0.3em;box-sizing: border-box;text-align: center;}#sk-container-id-1 label.sk-toggleable__label-arrow:before {content: \"▸\";float: left;margin-right: 0.25em;color: #696969;}#sk-container-id-1 label.sk-toggleable__label-arrow:hover:before {color: black;}#sk-container-id-1 div.sk-estimator:hover label.sk-toggleable__label-arrow:before {color: black;}#sk-container-id-1 div.sk-toggleable__content {max-height: 0;max-width: 0;overflow: hidden;text-align: left;background-color: #f0f8ff;}#sk-container-id-1 div.sk-toggleable__content pre {margin: 0.2em;color: black;border-radius: 0.25em;background-color: #f0f8ff;}#sk-container-id-1 input.sk-toggleable__control:checked~div.sk-toggleable__content {max-height: 200px;max-width: 100%;overflow: auto;}#sk-container-id-1 input.sk-toggleable__control:checked~label.sk-toggleable__label-arrow:before {content: \"▾\";}#sk-container-id-1 div.sk-estimator input.sk-toggleable__control:checked~label.sk-toggleable__label {background-color: #d4ebff;}#sk-container-id-1 div.sk-label input.sk-toggleable__control:checked~label.sk-toggleable__label {background-color: #d4ebff;}#sk-container-id-1 input.sk-hidden--visually {border: 0;clip: rect(1px 1px 1px 1px);clip: rect(1px, 1px, 1px, 1px);height: 1px;margin: -1px;overflow: hidden;padding: 0;position: absolute;width: 1px;}#sk-container-id-1 div.sk-estimator {font-family: monospace;background-color: #f0f8ff;border: 1px dotted black;border-radius: 0.25em;box-sizing: border-box;margin-bottom: 0.5em;}#sk-container-id-1 div.sk-estimator:hover {background-color: #d4ebff;}#sk-container-id-1 div.sk-parallel-item::after {content: \"\";width: 100%;border-bottom: 1px solid gray;flex-grow: 1;}#sk-container-id-1 div.sk-label:hover label.sk-toggleable__label {background-color: #d4ebff;}#sk-container-id-1 div.sk-serial::before {content: \"\";position: absolute;border-left: 1px solid gray;box-sizing: border-box;top: 0;bottom: 0;left: 50%;z-index: 0;}#sk-container-id-1 div.sk-serial {display: flex;flex-direction: column;align-items: center;background-color: white;padding-right: 0.2em;padding-left: 0.2em;position: relative;}#sk-container-id-1 div.sk-item {position: relative;z-index: 1;}#sk-container-id-1 div.sk-parallel {display: flex;align-items: stretch;justify-content: center;background-color: white;position: relative;}#sk-container-id-1 div.sk-item::before, #sk-container-id-1 div.sk-parallel-item::before {content: \"\";position: absolute;border-left: 1px solid gray;box-sizing: border-box;top: 0;bottom: 0;left: 50%;z-index: -1;}#sk-container-id-1 div.sk-parallel-item {display: flex;flex-direction: column;z-index: 1;position: relative;background-color: white;}#sk-container-id-1 div.sk-parallel-item:first-child::after {align-self: flex-end;width: 50%;}#sk-container-id-1 div.sk-parallel-item:last-child::after {align-self: flex-start;width: 50%;}#sk-container-id-1 div.sk-parallel-item:only-child::after {width: 0;}#sk-container-id-1 div.sk-dashed-wrapped {border: 1px dashed gray;margin: 0 0.4em 0.5em 0.4em;box-sizing: border-box;padding-bottom: 0.4em;background-color: white;}#sk-container-id-1 div.sk-label label {font-family: monospace;font-weight: bold;display: inline-block;line-height: 1.2em;}#sk-container-id-1 div.sk-label-container {text-align: center;}#sk-container-id-1 div.sk-container {/* jupyter's `normalize.less` sets `[hidden] { display: none; }` but bootstrap.min.css set `[hidden] { display: none !important; }` so we also need the `!important` here to be able to override the default hidden behavior on the sphinx rendered scikit-learn.org. See: https://github.com/scikit-learn/scikit-learn/issues/21755 */display: inline-block !important;position: relative;}#sk-container-id-1 div.sk-text-repr-fallback {display: none;}</style><div id=\"sk-container-id-1\" class=\"sk-top-container\"><div class=\"sk-text-repr-fallback\"><pre>LinearRegression()</pre><b>In a Jupyter environment, please rerun this cell to show the HTML representation or trust the notebook. <br />On GitHub, the HTML representation is unable to render, please try loading this page with nbviewer.org.</b></div><div class=\"sk-container\" hidden><div class=\"sk-item\"><div class=\"sk-estimator sk-toggleable\"><input class=\"sk-toggleable__control sk-hidden--visually\" id=\"sk-estimator-id-1\" type=\"checkbox\" checked><label for=\"sk-estimator-id-1\" class=\"sk-toggleable__label sk-toggleable__label-arrow\">LinearRegression</label><div class=\"sk-toggleable__content\"><pre>LinearRegression()</pre></div></div></div></div></div>"
      ],
      "text/plain": [
       "LinearRegression()"
      ]
     },
     "execution_count": 32,
     "metadata": {},
     "output_type": "execute_result"
    }
   ],
   "source": [
    "from sklearn.linear_model import LinearRegression\n",
    "model = LinearRegression()\n",
    "model.fit(fire_num_tr, fire_labels)"
   ]
  },
  {
   "cell_type": "code",
   "execution_count": 33,
   "id": "0eb6d7a9",
   "metadata": {},
   "outputs": [],
   "source": [
    "some_data = fire. iloc [ :5]"
   ]
  },
  {
   "cell_type": "code",
   "execution_count": 34,
   "id": "4a5d25ca",
   "metadata": {},
   "outputs": [],
   "source": [
    "some_labels = fire_labels.iloc[:5]"
   ]
  },
  {
   "cell_type": "code",
   "execution_count": 35,
   "id": "f2132c93",
   "metadata": {},
   "outputs": [],
   "source": [
    "prepared_data = my_pipeline.transform(some_data)"
   ]
  },
  {
   "cell_type": "code",
   "execution_count": 36,
   "id": "15259508",
   "metadata": {},
   "outputs": [
    {
     "data": {
      "text/plain": [
       "array([92.06791647, 90.69042453, 94.57593093, 97.03285966, 84.50544305])"
      ]
     },
     "execution_count": 36,
     "metadata": {},
     "output_type": "execute_result"
    }
   ],
   "source": [
    "model.predict (prepared_data)"
   ]
  },
  {
   "cell_type": "code",
   "execution_count": 37,
   "id": "b4088594",
   "metadata": {},
   "outputs": [
    {
     "data": {
      "text/plain": [
       "[92.2, 90.9, 92.1, 96.1, 86.8]"
      ]
     },
     "execution_count": 37,
     "metadata": {},
     "output_type": "execute_result"
    }
   ],
   "source": [
    "list(some_labels)"
   ]
  },
  {
   "cell_type": "markdown",
   "id": "aebeb0c7",
   "metadata": {},
   "source": [
    "# Evaluating the model"
   ]
  },
  {
   "cell_type": "code",
   "execution_count": 40,
   "id": "198c7563",
   "metadata": {},
   "outputs": [],
   "source": [
    "import numpy as np\n",
    "from sklearn.metrics import mean_squared_error\n",
    "fire_predictions = model.predict(fire_num_tr)\n",
    "mse = mean_squared_error(fire_labels, fire_predictions)\n",
    "rmse = np.sqrt(mse)"
   ]
  },
  {
   "cell_type": "code",
   "execution_count": 41,
   "id": "ca06d5d2",
   "metadata": {},
   "outputs": [
    {
     "data": {
      "text/plain": [
       "4.4523527015629325"
      ]
     },
     "execution_count": 41,
     "metadata": {},
     "output_type": "execute_result"
    }
   ],
   "source": [
    "rmse"
   ]
  },
  {
   "cell_type": "markdown",
   "id": "40841184",
   "metadata": {},
   "source": [
    "#  Using better evaluation technique - Cross Validation"
   ]
  },
  {
   "cell_type": "code",
   "execution_count": 43,
   "id": "5c3a6870",
   "metadata": {},
   "outputs": [],
   "source": [
    "# 1 2 3 4 567 8 9 10\n",
    "from sklearn.model_selection import cross_val_score\n",
    "scores=cross_val_score(model, fire_num_tr, fire_labels, scoring=\"neg_mean_squared_error\")\n",
    "rmse_scores = np.sqrt(-scores)"
   ]
  },
  {
   "cell_type": "code",
   "execution_count": 44,
   "id": "1c251b53",
   "metadata": {},
   "outputs": [
    {
     "data": {
      "text/plain": [
       "array([4.88200641, 3.44671819, 3.37187948, 7.11197404, 2.78999724])"
      ]
     },
     "execution_count": 44,
     "metadata": {},
     "output_type": "execute_result"
    }
   ],
   "source": [
    "rmse_scores"
   ]
  },
  {
   "cell_type": "code",
   "execution_count": 45,
   "id": "9196aa86",
   "metadata": {},
   "outputs": [],
   "source": [
    "def print_scores (scores):\n",
    "    print(\"Scores: \", scores)\n",
    "    print(\"Mean: \", scores.mean ())\n",
    "    print(\"standard deviation:\", scores.std ())"
   ]
  },
  {
   "cell_type": "code",
   "execution_count": 46,
   "id": "7273bb4e",
   "metadata": {},
   "outputs": [
    {
     "name": "stdout",
     "output_type": "stream",
     "text": [
      "Scores:  [4.88200641 3.44671819 3.37187948 7.11197404 2.78999724]\n",
      "Mean:  4.320515071285108\n",
      "standard deviation: 1.5564980542988043\n"
     ]
    }
   ],
   "source": [
    "print_scores ( rmse_scores)"
   ]
  },
  {
   "cell_type": "markdown",
   "id": "8ebd61b4",
   "metadata": {},
   "source": [
    "# Saving the model "
   ]
  },
  {
   "cell_type": "code",
   "execution_count": 47,
   "id": "b1216d64",
   "metadata": {},
   "outputs": [
    {
     "data": {
      "text/plain": [
       "['fire.joblib']"
      ]
     },
     "execution_count": 47,
     "metadata": {},
     "output_type": "execute_result"
    }
   ],
   "source": [
    "from joblib import dump, load\n",
    "dump (model, 'fire.joblib')"
   ]
  },
  {
   "cell_type": "markdown",
   "id": "8b14268a",
   "metadata": {},
   "source": [
    "# Testing the model on test data"
   ]
  },
  {
   "cell_type": "code",
   "execution_count": null,
   "id": "aa051645",
   "metadata": {},
   "outputs": [],
   "source": [
    "X_test = strat_test_set.drop( \"FFMC\", axis=1)\n",
    "Y_test = strat_test_set[ \"FFMC\" ].copy ()\n",
    "X_test_prepared = my_pipeline.transform(X_test)\n",
    "final_predictions = model.predict (X_test_prepared)\n",
    "final_mse = mean_squared_error (Y_test, final_predictions)\n",
    "final_rmse = np.sqrt(final_mse)\n",
    "print(final_predictions , list(Y_test))"
   ]
  }
 ],
 "metadata": {
  "kernelspec": {
   "display_name": "Python 3 (ipykernel)",
   "language": "python",
   "name": "python3"
  },
  "language_info": {
   "codemirror_mode": {
    "name": "ipython",
    "version": 3
   },
   "file_extension": ".py",
   "mimetype": "text/x-python",
   "name": "python",
   "nbconvert_exporter": "python",
   "pygments_lexer": "ipython3",
   "version": "3.10.0"
  }
 },
 "nbformat": 4,
 "nbformat_minor": 5
}
